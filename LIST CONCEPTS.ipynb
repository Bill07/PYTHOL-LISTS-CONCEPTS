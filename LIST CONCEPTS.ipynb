{
 "cells": [
  {
   "cell_type": "markdown",
   "metadata": {},
   "source": [
    "### Equivalent Lists <font color=Red> (Facebook) </font>\n",
    "\n",
    "Given two string arrays/lists 'word1' and 'word2', return true if the two lists represent the same string, and false otherwise.\n",
    "\n",
    "Sample Input: word1 = [\"ab\", \"c\"], word2 = [\"a\", \"bc\"] <br>\n",
    "Sample Output: true <br>\n",
    "\n",
    "Explanation: <br>\n",
    "word1 represents string \"ab\" + \"c\" -> \"abc\" <br>\n",
    "word2 represents string \"a\" + \"bc\" -> \"abc\" <br>\n",
    "The strings are the same, so return true.\n",
    "\n",
    "Input: word1 = [\"a\", \"cb\"], word2 = [\"ab\", \"c\"] <br>\n",
    "Output: false\n",
    "\n",
    "Input: word1  = [\"abc\", \"d\", \"defg\"], word2 = [\"abcddefg\"] <br>\n",
    "Output: true"
   ]
  },
  {
   "cell_type": "code",
   "execution_count": 15,
   "metadata": {},
   "outputs": [
    {
     "name": "stdout",
     "output_type": "stream",
     "text": [
      "[\"a\", \"cb\"]\n",
      "[\"ab\", \"c\"]\n",
      "False\n"
     ]
    }
   ],
   "source": [
    "import ast\n",
    "\n",
    "list1 = ast.literal_eval(input())\n",
    "list2 = ast.literal_eval(input())\n",
    "\n",
    "if(\"\".join(list1) == \"\".join(list2)):\n",
    "    print(True)\n",
    "else:\n",
    "    print(False)\n"
   ]
  },
  {
   "cell_type": "code",
   "execution_count": null,
   "metadata": {},
   "outputs": [],
   "source": []
  },
  {
   "cell_type": "markdown",
   "metadata": {},
   "source": [
    "**QUESTION (Cumulative Sum)** (Easy)\n",
    "\n",
    "Print the cumulative sum of even numbers between 0 and 20 in the form of a list"
   ]
  },
  {
   "cell_type": "code",
   "execution_count": 15,
   "metadata": {},
   "outputs": [
    {
     "name": "stdout",
     "output_type": "stream",
     "text": [
      "[0, 2, 6, 12, 20, 30, 42, 56, 72, 90]\n"
     ]
    }
   ],
   "source": [
    "result = list(np.cumsum(range(0,20,2)))\n",
    "\n",
    "print(result)"
   ]
  },
  {
   "cell_type": "code",
   "execution_count": null,
   "metadata": {},
   "outputs": [],
   "source": []
  },
  {
   "cell_type": "markdown",
   "metadata": {},
   "source": [
    "**QUESTION** (Easy)\n",
    "\n",
    "Given a list. Find the index of minimum element.\n",
    "\n",
    "Sample input: <br>\n",
    "a = [2, 3, 1] <br>\n",
    "\n",
    "Sample output:<br>\n",
    "2"
   ]
  },
  {
   "cell_type": "code",
   "execution_count": 22,
   "metadata": {},
   "outputs": [
    {
     "name": "stdout",
     "output_type": "stream",
     "text": [
      "2\n"
     ]
    }
   ],
   "source": [
    "a = [2,3,1]\n",
    "\n",
    "enum_a = enumerate(a) # (0, 2), (1, 3), (2, 1)\n",
    "\n",
    "min_index = min(enum_a, key=lambda x:x[1])[0] \n",
    "print(min_index) # 2\n",
    "\n",
    "# Explanation: Since enum_a contain values in the pair format, we need to specify for which part of the pair are we finding\n",
    "# the minimum; as we're trying to find the min amongst 2,3,1 and they're at index 1 in each pair, therefore we specify\n",
    "# lambda x:x[1] in the 'key' parameter.\n",
    "# \"min_index = min(enum_a)\" would return (0,2) because it would find the min amongst indices 0,1,2\n",
    "# \"min_index = min(enum_a)[0]\" would return 0\n",
    "\n",
    "\n",
    "# Similarly, we can find the index of maximum element as below:\n",
    "# max_index = max(enum_a, key=lambda x:x[1])[0] "
   ]
  },
  {
   "cell_type": "code",
   "execution_count": null,
   "metadata": {},
   "outputs": [],
   "source": []
  },
  {
   "cell_type": "code",
   "execution_count": null,
   "metadata": {},
   "outputs": [],
   "source": []
  },
  {
   "cell_type": "markdown",
   "metadata": {},
   "source": [
    "**QUESTION** (Easy) (concept Builder ⭐)\n",
    "\n",
    "Given a list of strings and a list of numbers, the task is to generate all possible strings by repeating each character of each string by each number in the list.\n",
    "\n",
    "Sample input: <br>\n",
    "test_list = ['gfg', 'is', 'best'] <br>\n",
    "rep_list = [3, 5, 2]\n",
    "\n",
    "Sample output: <br>\n",
    "['gggfffggg', 'iiisss', 'bbbeeesssttt', 'gggggfffffggggg', 'iiiiisssss', 'bbbbbeeeeesssssttttt', 'ggffgg', 'iiss', 'bbeesstt']\n",
    "\n",
    "\n",
    "Explanation : Each element of ‘gfg’ is repeated 3, 5 and 2 times to output different strings. "
   ]
  },
  {
   "cell_type": "code",
   "execution_count": 37,
   "metadata": {},
   "outputs": [
    {
     "name": "stdout",
     "output_type": "stream",
     "text": [
      "['gggfffggg', 'iiisss', 'bbbeeesssttt', 'gggggfffffggggg', 'iiiiisssss', 'bbbbbeeeeesssssttttt', 'ggffgg', 'iiss', 'bbeesstt']\n"
     ]
    }
   ],
   "source": [
    "test_list = ['gfg', 'is', 'best']\n",
    "\n",
    "rep_list = [3, 5, 2]\n",
    "\n",
    "out_list = []\n",
    "\n",
    "for num in rep_list:\n",
    "    for word in test_list:\n",
    "        res = ''\n",
    "        for char in word:\n",
    "            res = res + char*num\n",
    "        out_list.append(res)\n",
    "\n",
    "print(out_list)"
   ]
  },
  {
   "cell_type": "code",
   "execution_count": null,
   "metadata": {},
   "outputs": [],
   "source": []
  },
  {
   "cell_type": "code",
   "execution_count": null,
   "metadata": {},
   "outputs": [],
   "source": []
  }
 ],
 "metadata": {
  "kernelspec": {
   "display_name": "Python 3",
   "language": "python",
   "name": "python3"
  },
  "language_info": {
   "codemirror_mode": {
    "name": "ipython",
    "version": 3
   },
   "file_extension": ".py",
   "mimetype": "text/x-python",
   "name": "python",
   "nbconvert_exporter": "python",
   "pygments_lexer": "ipython3",
   "version": "3.7.0"
  }
 },
 "nbformat": 4,
 "nbformat_minor": 2
}
